{
 "cells": [
  {
   "cell_type": "code",
   "execution_count": 4,
   "metadata": {},
   "outputs": [],
   "source": [
    "from datetime import timedelta\n",
    "import time\n",
    "import winsound"
   ]
  },
  {
   "cell_type": "code",
   "execution_count": 63,
   "metadata": {},
   "outputs": [
    {
     "name": "stdout",
     "output_type": "stream",
     "text": [
      "Do yo want customized timer ? Y/N : y\n",
      "We need to know the time you want to set timer.\n",
      "Enter hours :0\n",
      "Enter minutes :0\n",
      "Enter seconds :5\n",
      "\n",
      "#######################################################################\n",
      "\n",
      "\tThank you ! Your timer is going to start in few seconds \n",
      "\n",
      "#######################################################################\n",
      "\n",
      "\n",
      "\t\t############################\n",
      "\n",
      "\t\t\tTIMER STARTS\n",
      "\n",
      "\t\t############################\n",
      "\n",
      "0:00:05\n",
      "0:00:04\n",
      "0:00:03\n",
      "0:00:02\n",
      "0:00:01\n",
      "\n",
      "\n",
      "Do yo want to loop this timer ? Y/N : n\n",
      "\n",
      "#################################\n",
      "\n",
      "\tSEE YOU NEXT TIME\n",
      "\n",
      "#################################\n",
      "\n"
     ]
    }
   ],
   "source": [
    "stop = timedelta(0)\n",
    "step = timedelta(seconds=1)\n",
    "\n",
    "\n",
    "def pomodoro(h = 0 , m = 25 , s = 0):\n",
    "    start = timedelta(hours = h , minutes=m , seconds=s)\n",
    "    print('\\n\\t\\t############################\\n')\n",
    "    print('\\t\\t\\tTIMER STARTS\\n')\n",
    "    print('\\t\\t############################\\n')\n",
    "    \n",
    "    while start > stop:\n",
    "        time.sleep(1)\n",
    "        print(start)\n",
    "        start -=  step\n",
    "    if start == stop :\n",
    "        #winsound.PlaySound(soundname, flag)  \n",
    "        winsound.PlaySound('Alarm.wav', winsound.SND_FILENAME)  \n",
    "        \n",
    "\n",
    "def loop():\n",
    "    print(\"We need to know the time you want to set timer.\")\n",
    "    user_h = int(input(\"Enter hours :\"))\n",
    "    user_m = int(input(\"Enter minutes :\"))\n",
    "    user_s = int(input(\"Enter seconds :\"))\n",
    "    print('\\n#######################################################################\\n')\n",
    "    print('\\tThank you ! Your timer is going to start in few seconds \\n')\n",
    "    print('#######################################################################\\n')\n",
    "    time.sleep(5)\n",
    "    pomodoro(h = user_h , m = user_m , s = user_s)\n",
    "\n",
    "ans  = input(\"Do yo want customized timer ? Y/N : \")\n",
    "if ans.upper() == \"Y\":\n",
    "    loop()\n",
    "\n",
    "else:\n",
    "    pomodoro()  \n",
    "    \n",
    "ans  = input(\"\\n\\nDo yo want to loop this timer ? Y/N : \")\n",
    "if ans.upper() == \"Y\":   \n",
    "    print(\"\\nThere will be 3 timers in a loop you can take a 5-mins break after each cycle\")\n",
    "    for count in range(3):\n",
    "        time.sleep(30)\n",
    "        pomodoro()\n",
    "else:\n",
    "    print('\\n#################################\\n')\n",
    "    print('\\tSEE YOU NEXT TIME\\n')\n",
    "    print('#################################\\n')\n"
   ]
  }
 ],
 "metadata": {
  "kernelspec": {
   "display_name": "Python 3",
   "language": "python",
   "name": "python3"
  },
  "language_info": {
   "codemirror_mode": {
    "name": "ipython",
    "version": 3
   },
   "file_extension": ".py",
   "mimetype": "text/x-python",
   "name": "python",
   "nbconvert_exporter": "python",
   "pygments_lexer": "ipython3",
   "version": "3.7.3"
  }
 },
 "nbformat": 4,
 "nbformat_minor": 2
}
